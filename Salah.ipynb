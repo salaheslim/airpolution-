{
  "cells": [
    {
      "cell_type": "markdown",
      "metadata": {
        "id": "view-in-github",
        "colab_type": "text"
      },
      "source": [
        "<a href=\"https://colab.research.google.com/github/salaheslim/airpolution-/blob/main/Salah.ipynb\" target=\"_parent\"><img src=\"https://colab.research.google.com/assets/colab-badge.svg\" alt=\"Open In Colab\"/></a>"
      ]
    },
    {
      "cell_type": "markdown",
      "metadata": {
        "id": "tMKAi4gz7mff"
      },
      "source": [
        "sum prgram"
      ]
    },
    {
      "cell_type": "code",
      "execution_count": null,
      "metadata": {
        "colab": {
          "base_uri": "https://localhost:8080/"
        },
        "id": "zL1WtLGKxDs_",
        "outputId": "796662a5-2889-449e-e9d7-3d797b7547e6"
      },
      "outputs": [
        {
          "name": "stdout",
          "output_type": "stream",
          "text": [
            "10\n",
            "sum= 10\n"
          ]
        }
      ],
      "source": [
        "a=5\n",
        "b=5\n",
        "c=a+b\n",
        "print(c)\n",
        "print(\"sum=\",c)\n",
        "\n",
        "\n"
      ]
    },
    {
      "cell_type": "code",
      "execution_count": null,
      "metadata": {
        "colab": {
          "base_uri": "https://localhost:8080/"
        },
        "id": "2idFW5eh7uRB",
        "outputId": "56704569-99b1-4faf-edfe-1fab20e9fb4c"
      },
      "outputs": [
        {
          "name": "stdout",
          "output_type": "stream",
          "text": [
            "mutiplication= 200\n"
          ]
        }
      ],
      "source": [
        "a= 10\n",
        "b= 20\n",
        "c= 10*20\n",
        "print(\"mutiplication=\",c)\n"
      ]
    },
    {
      "cell_type": "markdown",
      "metadata": {
        "id": "vj_iMCIWUJtF"
      },
      "source": [
        "Numpy"
      ]
    },
    {
      "cell_type": "markdown",
      "metadata": {
        "id": "UKiKHR9bUIi8"
      },
      "source": []
    },
    {
      "cell_type": "code",
      "execution_count": null,
      "metadata": {
        "colab": {
          "base_uri": "https://localhost:8080/"
        },
        "id": "VWw7ES0RNngX",
        "outputId": "4ead3a3d-ebf4-4b2c-f51e-d0eaa4d36218"
      },
      "outputs": [
        {
          "name": "stdout",
          "output_type": "stream",
          "text": [
            "array= [1 2 3]\n",
            "<class 'numpy.ndarray'>\n"
          ]
        }
      ],
      "source": [
        "import numpy as np\n",
        "arr=np.array((1,2,3))\n",
        "print(\"array=\", arr)\n",
        "print(type(arr))\n"
      ]
    },
    {
      "cell_type": "markdown",
      "metadata": {
        "id": "K_hovMkkXPRd"
      },
      "source": [
        "gcvsnk;lkm,mbmb bs nm,"
      ]
    },
    {
      "cell_type": "code",
      "execution_count": null,
      "metadata": {
        "id": "8VMJMtODXRMP"
      },
      "outputs": [],
      "source": []
    },
    {
      "cell_type": "markdown",
      "metadata": {
        "id": "LXNUAnaQVHBP"
      },
      "source": [
        "pandas library\n"
      ]
    },
    {
      "cell_type": "code",
      "execution_count": null,
      "metadata": {
        "colab": {
          "base_uri": "https://localhost:8080/"
        },
        "id": "uSl7ebecU4Wu",
        "outputId": "08bd0231-df3c-414e-d745-d75a832807f1"
      },
      "outputs": [
        {
          "name": "stdout",
          "output_type": "stream",
          "text": [
            "series=\n",
            " 0     10\n",
            "1     20\n",
            "2     30\n",
            "3    100\n",
            "4    200\n",
            "dtype: int64\n"
          ]
        }
      ],
      "source": [
        "import pandas as pd\n",
        "mylist = [10, 20 , 30 , 100, 200]\n",
        "res = pd.Series(mylist)\n",
        "print(\"series=\\n\",res)\n"
      ]
    },
    {
      "cell_type": "markdown",
      "metadata": {
        "id": "Jtps0WKlSMOT"
      },
      "source": [
        "Matplot library"
      ]
    },
    {
      "cell_type": "code",
      "execution_count": null,
      "metadata": {
        "colab": {
          "base_uri": "https://localhost:8080/",
          "height": 599
        },
        "id": "UcFDwbOjVPXw",
        "outputId": "00c9d11e-add1-4585-8bd5-b9a37ea43422"
      },
      "outputs": [
        {
          "data": {
            "text/html": [
              "<div style=\"max-width:800px; border: 1px solid var(--colab-border-color);\"><style>\n",
              "      pre.function-repr-contents {\n",
              "        overflow-x: auto;\n",
              "        padding: 8px 12px;\n",
              "        max-height: 500px;\n",
              "      }\n",
              "\n",
              "      pre.function-repr-contents.function-repr-contents-collapsed {\n",
              "        cursor: pointer;\n",
              "        max-height: 100px;\n",
              "      }\n",
              "    </style>\n",
              "    <pre style=\"white-space: initial; background:\n",
              "         var(--colab-secondary-surface-color); padding: 8px 12px;\n",
              "         border-bottom: 1px solid var(--colab-border-color);\"><b>matplotlib.pyplot.show</b><br/>def show(*args, **kwargs) -&gt; None</pre><pre class=\"function-repr-contents function-repr-contents-collapsed\" style=\"\"><a class=\"filepath\" style=\"display:none\" href=\"#\">/usr/local/lib/python3.11/dist-packages/matplotlib/pyplot.py</a>Display all open figures.\n",
              "\n",
              "Parameters\n",
              "----------\n",
              "block : bool, optional\n",
              "    Whether to wait for all figures to be closed before returning.\n",
              "\n",
              "    If `True` block and run the GUI main loop until all figure windows\n",
              "    are closed.\n",
              "\n",
              "    If `False` ensure that all figure windows are displayed and return\n",
              "    immediately.  In this case, you are responsible for ensuring\n",
              "    that the event loop is running to have responsive figures.\n",
              "\n",
              "    Defaults to True in non-interactive mode and to False in interactive\n",
              "    mode (see `.pyplot.isinteractive`).\n",
              "\n",
              "See Also\n",
              "--------\n",
              "ion : Enable interactive mode, which shows / updates the figure after\n",
              "      every plotting command, so that calling ``show()`` is not necessary.\n",
              "ioff : Disable interactive mode.\n",
              "savefig : Save the figure to an image file instead of showing it on screen.\n",
              "\n",
              "Notes\n",
              "-----\n",
              "**Saving figures to file and showing a window at the same time**\n",
              "\n",
              "If you want an image file as well as a user interface window, use\n",
              "`.pyplot.savefig` before `.pyplot.show`. At the end of (a blocking)\n",
              "``show()`` the figure is closed and thus unregistered from pyplot. Calling\n",
              "`.pyplot.savefig` afterwards would save a new and thus empty figure. This\n",
              "limitation of command order does not apply if the show is non-blocking or\n",
              "if you keep a reference to the figure and use `.Figure.savefig`.\n",
              "\n",
              "**Auto-show in jupyter notebooks**\n",
              "\n",
              "The jupyter backends (activated via ``%matplotlib inline``,\n",
              "``%matplotlib notebook``, or ``%matplotlib widget``), call ``show()`` at\n",
              "the end of every cell by default. Thus, you usually don&#x27;t have to call it\n",
              "explicitly there.</pre>\n",
              "      <script>\n",
              "      if (google.colab.kernel.accessAllowed && google.colab.files && google.colab.files.view) {\n",
              "        for (const element of document.querySelectorAll('.filepath')) {\n",
              "          element.style.display = 'block'\n",
              "          element.onclick = (event) => {\n",
              "            event.preventDefault();\n",
              "            event.stopPropagation();\n",
              "            google.colab.files.view(element.textContent, 569);\n",
              "          };\n",
              "        }\n",
              "      }\n",
              "      for (const element of document.querySelectorAll('.function-repr-contents')) {\n",
              "        element.onclick = (event) => {\n",
              "          event.preventDefault();\n",
              "          event.stopPropagation();\n",
              "          element.classList.toggle('function-repr-contents-collapsed');\n",
              "        };\n",
              "      }\n",
              "      </script>\n",
              "      </div>"
            ],
            "text/plain": [
              "<function matplotlib.pyplot.show(close=None, block=None)>"
            ]
          },
          "execution_count": 4,
          "metadata": {},
          "output_type": "execute_result"
        },
        {
          "data": {
            "image/png": "[encoded data removed]",
            "text/plain": [
              "<Figure size 640x480 with 1 Axes>"
            ]
          },
          "metadata": {},
          "output_type": "display_data"
        }
      ],
      "source": [
        "import matplotlib.pyplot as plt\n",
        "import numpy as np\n",
        "xpts = np.array([0,10])\n",
        "ypts = np.array([0,50])\n",
        "plt.plot(xpts,ypts)\n",
        "plt.show"
      ]
    },
    {
      "cell_type": "markdown",
      "metadata": {
        "id": "ThIAtCBqcHVQ"
      },
      "source": [
        "tuple"
      ]
    },
    {
      "cell_type": "code",
      "execution_count": null,
      "metadata": {
        "id": "T7KuwqfscG7o"
      },
      "outputs": [],
      "source": []
    },
    {
      "cell_type": "code",
      "execution_count": null,
      "metadata": {
        "id": "0Cn4vVrLj-xy"
      },
      "outputs": [],
      "source": []
    },
    {
      "cell_type": "markdown",
      "metadata": {
        "id": "Nz5X0ss3j_1i"
      },
      "source": [
        "mytuble also"
      ]
    },
    {
      "cell_type": "markdown",
      "metadata": {
        "id": "kU3Ia-Y1j7HA"
      },
      "source": []
    },
    {
      "cell_type": "code",
      "execution_count": null,
      "metadata": {
        "colab": {
          "base_uri": "https://localhost:8080/"
        },
        "id": "agP0wXaicYB3",
        "outputId": "55983fcb-7351-46c3-b4ac-8313581633ca"
      },
      "outputs": [
        {
          "name": "stdout",
          "output_type": "stream",
          "text": [
            "('ahmed', 'mohamed', 'hussain', 'hona')\n",
            "(20, 30, 40, 50)\n"
          ]
        }
      ],
      "source": [
        "mytuple1= (\"ahmed\", \"mohamed\", \"hussain\",\"hona\")\n",
        "print(mytuple1)\n",
        "mytuple2= (20,30,40,50)\n",
        "print(mytuple2)\n"
      ]
    },
    {
      "cell_type": "code",
      "execution_count": null,
      "metadata": {
        "colab": {
          "base_uri": "https://localhost:8080/"
        },
        "id": "Jqy07_exkbkF",
        "outputId": "a1660a37-9134-4c76-9b02-56e8dfe0f51a"
      },
      "outputs": [
        {
          "name": "stdout",
          "output_type": "stream",
          "text": [
            "('ahmed', 'mohamed', 'hussain', 'hona')\n",
            "(20, 30, 40, 50)\n"
          ]
        }
      ],
      "source": [
        "mytuple1= (\"ahmed\", \"mohamed\", \"hussain\",\"hona\")\n",
        "print(mytuple1)\n",
        "mytuple2= (20,30,40,50)\n",
        "print(mytuple2)\n"
      ]
    },
    {
      "cell_type": "markdown",
      "metadata": {
        "id": "_ygql7Z6kTjj"
      },
      "source": [
        "find and replace word like  - go to edit and click find and replace"
      ]
    },
    {
      "cell_type": "code",
      "execution_count": null,
      "metadata": {
        "colab": {
          "base_uri": "https://localhost:8080/"
        },
        "id": "ZbKVrpwYiT5O",
        "outputId": "f777a9f9-2ef1-4e62-c62c-77ab400e4f0e"
      },
      "outputs": [
        {
          "name": "stdout",
          "output_type": "stream",
          "text": [
            "1096.6331584284585\n",
            "10.0\n",
            "5040\n",
            "2.23606797749979\n"
          ]
        }
      ],
      "source": [
        "import math as m\n",
        "a=m.exp(7)\n",
        "print (a)\n",
        "b=m.log(10000000000, 10)\n",
        "print(b)\n",
        "c=m.factorial(7)\n",
        "print (c)\n",
        "d= m.sqrt(5)\n",
        "print(d)\n"
      ]
    },
    {
      "cell_type": "code",
      "execution_count": null,
      "metadata": {
        "id": "Ivim90uXHxkb",
        "colab": {
          "base_uri": "https://localhost:8080/"
        },
        "outputId": "f483714c-61e5-4237-975d-0dc29ec300c5"
      },
      "outputs": [
        {
          "output_type": "stream",
          "name": "stdout",
          "text": [
            "False\n",
            "hello    salah\n",
            "   hello    salah  \n",
            "   hello    salah\n",
            "hello    salah  \n"
          ]
        }
      ],
      "source": [
        "# a= 'Dfgyu Iolkjhgfds Qwertyuio Mnbv Hhhhhh'\n",
        "# print(a[1])\n",
        "# print(a[-2])\n",
        "# b=5\n",
        "# d=10\n",
        "# #print(b*d)\n",
        "# #print(a[2:])\n",
        "# #print(a[1: 4 :-2])\n",
        "# #print(list[a])\n",
        "# #print(list(a))\n",
        "# #print(sorted(list(a)))\n",
        "# # print(set(a))\n",
        "# # print(a.replace('h','a') )\n",
        "# # print(type(a.replace))\n",
        "# # print(a.count(a))\n",
        "# # print(a.capitalize())\n",
        "# print(a.swapcase())\n",
        "# print(a.upper())\n",
        "# print(a.center(10))\n",
        "a='   hello    salah  '\n",
        "print(a.isalpha())\n",
        "print(a.strip())\n",
        "print(a)\n",
        "print(a.rstrip())\n",
        "print(a.lstrip())\n",
        "\n",
        "\n"
      ]
    },
    {
      "cell_type": "markdown",
      "source": [
        "string in python (splitlines, print more than one line, )"
      ],
      "metadata": {
        "id": "IJzbbxtxTDXR"
      }
    },
    {
      "cell_type": "code",
      "source": [
        "# # a=''' hsjmsnbvb nxd\n",
        "# # jnbknknlnlnd\n",
        "# # ljknknmnds\n",
        "# # nknkn,nd\n",
        "# # l,n,n,nn,n,m .s\n",
        "# # '''\n",
        "# # b= 'salah'\n",
        "# # c= 'mohamed '\n",
        "# # d= 'eslim'\n",
        "\n",
        "# # print(a)\n",
        "# # print(a.splitlines())\n",
        "\n",
        "\n",
        "# #z='Salah Eslim '\n",
        "# # n= 40\n",
        "# # x= 'my name is %5s and Iam  %010d years old '%(z,n)\n",
        "# # print(x)\n",
        "# a='how are you man'\n",
        "# print(a.isalpha())\n",
        "# print(a.isnumeric())\n",
        "# print(a.isupper())\n",
        "# print(a.islower())\n",
        "# b=a.startswith('HOW')\n",
        "import numpy as np\n",
        "c= ' $ ,  '.join ([str(i) for i in np.random.randint(10, size=100)])\n",
        "print(c)\n",
        "\n",
        "\n",
        "\n",
        "\n",
        "m='ahmed'\n",
        "n='moh'\n",
        "k='{1} and {0}'.format(m,n)\n",
        "print(k)\n",
        "v= 'pi={0:.1f}'.format(np.pi)\n",
        "print(v)\n",
        "\n",
        "a= '******'+'{:^20}'.format('hello')+'*****'\n",
        "print(a)\n",
        "\n",
        "\n"
      ],
      "metadata": {
        "colab": {
          "base_uri": "https://localhost:8080/"
        },
        "id": "UnidzFM0TCuX",
        "outputId": "5f527a7c-a4c2-4810-ee05-b176ddab973e"
      },
      "execution_count": null,
      "outputs": [
        {
          "output_type": "stream",
          "name": "stdout",
          "text": [
            "2 $ ,  2 $ ,  5 $ ,  6 $ ,  8 $ ,  6 $ ,  5 $ ,  3 $ ,  1 $ ,  0 $ ,  9 $ ,  1 $ ,  0 $ ,  8 $ ,  4 $ ,  8 $ ,  3 $ ,  5 $ ,  5 $ ,  5 $ ,  5 $ ,  7 $ ,  2 $ ,  0 $ ,  7 $ ,  5 $ ,  6 $ ,  3 $ ,  3 $ ,  7 $ ,  2 $ ,  0 $ ,  0 $ ,  4 $ ,  2 $ ,  0 $ ,  8 $ ,  6 $ ,  1 $ ,  9 $ ,  0 $ ,  1 $ ,  9 $ ,  3 $ ,  6 $ ,  6 $ ,  8 $ ,  8 $ ,  3 $ ,  5 $ ,  8 $ ,  1 $ ,  1 $ ,  9 $ ,  8 $ ,  0 $ ,  9 $ ,  3 $ ,  5 $ ,  4 $ ,  3 $ ,  1 $ ,  7 $ ,  4 $ ,  9 $ ,  3 $ ,  6 $ ,  6 $ ,  8 $ ,  3 $ ,  0 $ ,  0 $ ,  1 $ ,  6 $ ,  9 $ ,  0 $ ,  9 $ ,  8 $ ,  1 $ ,  1 $ ,  0 $ ,  1 $ ,  2 $ ,  0 $ ,  2 $ ,  1 $ ,  6 $ ,  8 $ ,  0 $ ,  0 $ ,  5 $ ,  1 $ ,  9 $ ,  8 $ ,  4 $ ,  6 $ ,  1 $ ,  4 $ ,  1 $ ,  8\n",
            "moh and ahmed\n",
            "pi=3.1\n",
            "******       hello        *****\n"
          ]
        }
      ]
    },
    {
      "cell_type": "markdown",
      "source": [
        "tuple"
      ],
      "metadata": {
        "id": "auOStWF6cz-r"
      }
    },
    {
      "cell_type": "code",
      "source": [
        "a=[1,2,3,57,8,9,6,5,22,45,5,4,4,4,44,5,4,5]\n",
        "b=['e','c','d','f']\n",
        "# c=[3.4,True,False, 5-7j]\n",
        "# x=[a,b,c]\n",
        "# q=sum(a)\n",
        "# w=len(a)\n",
        "# e=q/w\n",
        "# print(e)\n",
        "# r=max(b)\n",
        "# t=min(b)\n",
        "# print(r)\n",
        "# print(t)\n",
        "#print(sorted(a)\n",
        "a.sort()\n",
        "print(a)\n",
        "print(sorted(a,reverse=True))\n",
        "\n",
        "\n",
        "\n",
        "\n",
        "#del a[:5]\n",
        "#a.remove(6)\n",
        "#b.remove(\"d\")\n",
        "#c.remove(True)\n",
        "#print(a[3])\n",
        "# z=[a[0]]*100\n",
        "# print(x)\n",
        "# print(sum(a))\n",
        "\n",
        "# print(len(x))\n",
        "# len(a)\n",
        "# print(len(a))\n",
        "\n",
        "# print([[0]*8]*10)\n",
        "# print(a+b+c)\n",
        "# print(a)\n",
        "# print(b)\n",
        "# print(c)\n",
        "\n",
        "\n",
        "\n",
        "\n",
        "\n",
        "# print(x)\n",
        "\n",
        "\n",
        "\n",
        "\n",
        "\n",
        "\n",
        "\n",
        "\n"
      ],
      "metadata": {
        "colab": {
          "base_uri": "https://localhost:8080/"
        },
        "id": "R-8kO3yhczgk",
        "outputId": "898096e9-526b-4e80-8708-750045f6fa9b"
      },
      "execution_count": null,
      "outputs": [
        {
          "output_type": "stream",
          "name": "stdout",
          "text": [
            "[1, 2, 3, 4, 4, 4, 4, 5, 5, 5, 5, 6, 8, 9, 22, 44, 45, 57]\n",
            "[1, 2, 3, 4, 4, 4, 4, 5, 5, 5, 5, 6, 8, 9, 22, 44, 45, 57]\n"
          ]
        }
      ]
    },
    {
      "cell_type": "code",
      "source": [
        "h= 'i love my mother and where is your father'\n",
        "a=[('ahmed','egypt','27' ,'55'), ('mohamed','france ','28','67'),('mona','tunis','23','75'),('hosa','bahrain','33','80')]\n",
        "# b=sorted(a,reverse=True, key=lambda c:c[3])\n",
        "# print(b)\n",
        "# c= h.split(sep='o', maxsplit=2)\n",
        "# v=('mother' in h )\n",
        "# print(v)\n",
        "# print(c)\n",
        "\n",
        "\n"
      ],
      "metadata": {
        "colab": {
          "base_uri": "https://localhost:8080/"
        },
        "id": "T5YpKvBWJeXa",
        "outputId": "1efc719a-f46b-4ff4-ac19-187e69484134"
      },
      "execution_count": null,
      "outputs": [
        {
          "output_type": "stream",
          "name": "stdout",
          "text": [
            "[('hosa', 'bahrain', '33', '80'), ('mona', 'tunis', '23', '75'), ('mohamed', 'france ', '28', '67'), ('ahmed', 'egypt', '27', '55')]\n",
            "True\n",
            "['i l', 've my m', 'ther and where is your father']\n"
          ]
        }
      ]
    },
    {
      "cell_type": "code",
      "source": [
        "a= [0,1,2,3,4,5,6,7,7,8,8,8]\n",
        "b=[4,5,6,7,8,9,9,3,4,4]\n",
        "#b= ['asd', 'erty','dfgh','dfgh','sdfgh','dfgh']\n",
        "b.extend(a)\n",
        "print(a)\n",
        "print(b)\n",
        "a.insert(3,66)\n",
        "b.append(55)\n",
        "print(a.count(8))\n",
        "print(a)\n",
        "print(b)\n",
        "print(a)\n",
        "\n"
      ],
      "metadata": {
        "colab": {
          "base_uri": "https://localhost:8080/"
        },
        "id": "kJnxkvF1AD4t",
        "outputId": "21783a85-8612-4d94-9afc-ded14ac4579e"
      },
      "execution_count": null,
      "outputs": [
        {
          "output_type": "stream",
          "name": "stdout",
          "text": [
            "[0, 1, 2, 3, 4, 5, 6, 7, 7, 8, 8, 8]\n",
            "[4, 5, 6, 7, 8, 9, 9, 3, 4, 4, 0, 1, 2, 3, 4, 5, 6, 7, 7, 8, 8, 8]\n",
            "3\n",
            "[0, 1, 2, 66, 3, 4, 5, 6, 7, 7, 8, 8, 8]\n",
            "[4, 5, 6, 7, 8, 9, 9, 3, 4, 4, 0, 1, 2, 3, 4, 5, 6, 7, 7, 8, 8, 8, 55]\n",
            "[0, 1, 2, 66, 3, 4, 5, 6, 7, 7, 8, 8, 8]\n"
          ]
        }
      ]
    },
    {
      "cell_type": "code",
      "source": [],
      "metadata": {
        "id": "xOkZy_hBADFD"
      },
      "execution_count": null,
      "outputs": []
    },
    {
      "cell_type": "code",
      "source": [
        "from tensorflow.keras.layers import Input, Conv2D, MaxPool2D, Flatten, Dense\n",
        "from tensorflow.keras.models import Model\n",
        "\n",
        "# تحديد شكل الإدخال\n",
        "input_layer = Input(shape=(64, 64, 3))\n",
        "\n",
        "# إضافة طبقة تلافيفية\n",
        "conv_layer = Conv2D(32, (3, 3), activation='relu')(input_layer)\n",
        "\n",
        "# إضافة طبقة تجميع أقصى\n",
        "max_pool_layer = MaxPool2D((2, 2))(conv_layer)\n",
        "\n",
        "# تسطيح الناتج\n",
        "flatten_layer = Flatten()(max_pool_layer)\n",
        "\n",
        "# إضافة طبقة كثيفة\n",
        "dense_layer = Dense(128, activation='relu')(flatten_layer)\n",
        "\n",
        "# إنشاء النموذج\n",
        "model = Model(inputs=input_layer, outputs=dense_layer)\n",
        "\n",
        "# طباعة ملخص النموذج\n",
        "model.summary()\n"
      ],
      "metadata": {
        "colab": {
          "base_uri": "https://localhost:8080/",
          "height": 295
        },
        "id": "NIp1JOvziml3",
        "outputId": "e0fd4459-b103-4e0c-d1bd-b569cdbc0b10"
      },
      "execution_count": null,
      "outputs": [
        {
          "output_type": "display_data",
          "data": {
            "text/plain": [
              "\u001b[1mModel: \"functional\"\u001b[0m\n"
            ],
            "text/html": [
              "<pre style=\"white-space:pre;overflow-x:auto;line-height:normal;font-family:Menlo,'DejaVu Sans Mono',consolas,'Courier New',monospace\"><span style=\"font-weight: bold\">Model: \"functional\"</span>\n",
              "</pre>\n"
            ]
          },
          "metadata": {}
        },
        {
          "output_type": "display_data",
          "data": {
            "text/plain": [
              "┏━━━━━━━━━━━━━━━━━━━━━━━━━━━━━━━━━━━━━━┳━━━━━━━━━━━━━━━━━━━━━━━━━━━━━┳━━━━━━━━━━━━━━━━━┓\n",
              "┃\u001b[1m \u001b[0m\u001b[1mLayer (type)                        \u001b[0m\u001b[1m \u001b[0m┃\u001b[1m \u001b[0m\u001b[1mOutput Shape               \u001b[0m\u001b[1m \u001b[0m┃\u001b[1m \u001b[0m\u001b[1m        Param #\u001b[0m\u001b[1m \u001b[0m┃\n",
              "┡━━━━━━━━━━━━━━━━━━━━━━━━━━━━━━━━━━━━━━╇━━━━━━━━━━━━━━━━━━━━━━━━━━━━━╇━━━━━━━━━━━━━━━━━┩\n",
              "│ input_layer (\u001b[38;5;33mInputLayer\u001b[0m)             │ (\u001b[38;5;45mNone\u001b[0m, \u001b[38;5;34m64\u001b[0m, \u001b[38;5;34m64\u001b[0m, \u001b[38;5;34m3\u001b[0m)           │               \u001b[38;5;34m0\u001b[0m │\n",
              "├──────────────────────────────────────┼─────────────────────────────┼─────────────────┤\n",
              "│ conv2d (\u001b[38;5;33mConv2D\u001b[0m)                      │ (\u001b[38;5;45mNone\u001b[0m, \u001b[38;5;34m62\u001b[0m, \u001b[38;5;34m62\u001b[0m, \u001b[38;5;34m32\u001b[0m)          │             \u001b[38;5;34m896\u001b[0m │\n",
              "├──────────────────────────────────────┼─────────────────────────────┼─────────────────┤\n",
              "│ max_pooling2d (\u001b[38;5;33mMaxPooling2D\u001b[0m)         │ (\u001b[38;5;45mNone\u001b[0m, \u001b[38;5;34m31\u001b[0m, \u001b[38;5;34m31\u001b[0m, \u001b[38;5;34m32\u001b[0m)          │               \u001b[38;5;34m0\u001b[0m │\n",
              "├──────────────────────────────────────┼─────────────────────────────┼─────────────────┤\n",
              "│ flatten (\u001b[38;5;33mFlatten\u001b[0m)                    │ (\u001b[38;5;45mNone\u001b[0m, \u001b[38;5;34m30752\u001b[0m)               │               \u001b[38;5;34m0\u001b[0m │\n",
              "├──────────────────────────────────────┼─────────────────────────────┼─────────────────┤\n",
              "│ dense (\u001b[38;5;33mDense\u001b[0m)                        │ (\u001b[38;5;45mNone\u001b[0m, \u001b[38;5;34m128\u001b[0m)                 │       \u001b[38;5;34m3,936,384\u001b[0m │\n",
              "└──────────────────────────────────────┴─────────────────────────────┴─────────────────┘\n"
            ],
            "text/html": [
              "<pre style=\"white-space:pre;overflow-x:auto;line-height:normal;font-family:Menlo,'DejaVu Sans Mono',consolas,'Courier New',monospace\">┏━━━━━━━━━━━━━━━━━━━━━━━━━━━━━━━━━━━━━━┳━━━━━━━━━━━━━━━━━━━━━━━━━━━━━┳━━━━━━━━━━━━━━━━━┓\n",
              "┃<span style=\"font-weight: bold\"> Layer (type)                         </span>┃<span style=\"font-weight: bold\"> Output Shape                </span>┃<span style=\"font-weight: bold\">         Param # </span>┃\n",
              "┡━━━━━━━━━━━━━━━━━━━━━━━━━━━━━━━━━━━━━━╇━━━━━━━━━━━━━━━━━━━━━━━━━━━━━╇━━━━━━━━━━━━━━━━━┩\n",
              "│ input_layer (<span style=\"color: #0087ff; text-decoration-color: #0087ff\">InputLayer</span>)             │ (<span style=\"color: #00d7ff; text-decoration-color: #00d7ff\">None</span>, <span style=\"color: #00af00; text-decoration-color: #00af00\">64</span>, <span style=\"color: #00af00; text-decoration-color: #00af00\">64</span>, <span style=\"color: #00af00; text-decoration-color: #00af00\">3</span>)           │               <span style=\"color: #00af00; text-decoration-color: #00af00\">0</span> │\n",
              "├──────────────────────────────────────┼─────────────────────────────┼─────────────────┤\n",
              "│ conv2d (<span style=\"color: #0087ff; text-decoration-color: #0087ff\">Conv2D</span>)                      │ (<span style=\"color: #00d7ff; text-decoration-color: #00d7ff\">None</span>, <span style=\"color: #00af00; text-decoration-color: #00af00\">62</span>, <span style=\"color: #00af00; text-decoration-color: #00af00\">62</span>, <span style=\"color: #00af00; text-decoration-color: #00af00\">32</span>)          │             <span style=\"color: #00af00; text-decoration-color: #00af00\">896</span> │\n",
              "├──────────────────────────────────────┼─────────────────────────────┼─────────────────┤\n",
              "│ max_pooling2d (<span style=\"color: #0087ff; text-decoration-color: #0087ff\">MaxPooling2D</span>)         │ (<span style=\"color: #00d7ff; text-decoration-color: #00d7ff\">None</span>, <span style=\"color: #00af00; text-decoration-color: #00af00\">31</span>, <span style=\"color: #00af00; text-decoration-color: #00af00\">31</span>, <span style=\"color: #00af00; text-decoration-color: #00af00\">32</span>)          │               <span style=\"color: #00af00; text-decoration-color: #00af00\">0</span> │\n",
              "├──────────────────────────────────────┼─────────────────────────────┼─────────────────┤\n",
              "│ flatten (<span style=\"color: #0087ff; text-decoration-color: #0087ff\">Flatten</span>)                    │ (<span style=\"color: #00d7ff; text-decoration-color: #00d7ff\">None</span>, <span style=\"color: #00af00; text-decoration-color: #00af00\">30752</span>)               │               <span style=\"color: #00af00; text-decoration-color: #00af00\">0</span> │\n",
              "├──────────────────────────────────────┼─────────────────────────────┼─────────────────┤\n",
              "│ dense (<span style=\"color: #0087ff; text-decoration-color: #0087ff\">Dense</span>)                        │ (<span style=\"color: #00d7ff; text-decoration-color: #00d7ff\">None</span>, <span style=\"color: #00af00; text-decoration-color: #00af00\">128</span>)                 │       <span style=\"color: #00af00; text-decoration-color: #00af00\">3,936,384</span> │\n",
              "└──────────────────────────────────────┴─────────────────────────────┴─────────────────┘\n",
              "</pre>\n"
            ]
          },
          "metadata": {}
        },
        {
          "output_type": "display_data",
          "data": {
            "text/plain": [
              "\u001b[1m Total params: \u001b[0m\u001b[38;5;34m3,937,280\u001b[0m (15.02 MB)\n"
            ],
            "text/html": [
              "<pre style=\"white-space:pre;overflow-x:auto;line-height:normal;font-family:Menlo,'DejaVu Sans Mono',consolas,'Courier New',monospace\"><span style=\"font-weight: bold\"> Total params: </span><span style=\"color: #00af00; text-decoration-color: #00af00\">3,937,280</span> (15.02 MB)\n",
              "</pre>\n"
            ]
          },
          "metadata": {}
        },
        {
          "output_type": "display_data",
          "data": {
            "text/plain": [
              "\u001b[1m Trainable params: \u001b[0m\u001b[38;5;34m3,937,280\u001b[0m (15.02 MB)\n"
            ],
            "text/html": [
              "<pre style=\"white-space:pre;overflow-x:auto;line-height:normal;font-family:Menlo,'DejaVu Sans Mono',consolas,'Courier New',monospace\"><span style=\"font-weight: bold\"> Trainable params: </span><span style=\"color: #00af00; text-decoration-color: #00af00\">3,937,280</span> (15.02 MB)\n",
              "</pre>\n"
            ]
          },
          "metadata": {}
        },
        {
          "output_type": "display_data",
          "data": {
            "text/plain": [
              "\u001b[1m Non-trainable params: \u001b[0m\u001b[38;5;34m0\u001b[0m (0.00 B)\n"
            ],
            "text/html": [
              "<pre style=\"white-space:pre;overflow-x:auto;line-height:normal;font-family:Menlo,'DejaVu Sans Mono',consolas,'Courier New',monospace\"><span style=\"font-weight: bold\"> Non-trainable params: </span><span style=\"color: #00af00; text-decoration-color: #00af00\">0</span> (0.00 B)\n",
              "</pre>\n"
            ]
          },
          "metadata": {}
        }
      ]
    }
  ],
  "metadata": {
    "colab": {
      "provenance": [],
      "include_colab_link": true
    },
    "kernelspec": {
      "display_name": "Python 3",
      "name": "python3"
    },
    "language_info": {
      "name": "python"
    }
  },
  "nbformat": 4,
  "nbformat_minor": 0
}